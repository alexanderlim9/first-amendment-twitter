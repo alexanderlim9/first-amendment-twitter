{
 "cells": [
  {
   "cell_type": "markdown",
   "metadata": {},
   "source": [
    "# Sentiment Analysis of #FirstAmendment Tweets"
   ]
  },
  {
   "cell_type": "code",
   "execution_count": 1,
   "metadata": {},
   "outputs": [
    {
     "name": "stdout",
     "output_type": "stream",
     "text": [
      "Sentiment(polarity=-0.8, subjectivity=0.9)\n"
     ]
    }
   ],
   "source": [
    "import nltk;\n",
    "from textblob import TextBlob\n",
    "import pandas as pd\n",
    "import numpy\n",
    "import matplotlib.pyplot as plt\n",
    "\n",
    "blob1 = TextBlob(\"I hate Mondays\")\n",
    "print(format(blob1.sentiment))"
   ]
  },
  {
   "cell_type": "code",
   "execution_count": 2,
   "metadata": {},
   "outputs": [
    {
     "name": "stdout",
     "output_type": "stream",
     "text": [
      "Sentiment(polarity=0.8, subjectivity=0.75)\n"
     ]
    }
   ],
   "source": [
    "blob2 = TextBlob(\"I don't think Mondays are great\")\n",
    "print(format(blob2.sentiment))"
   ]
  },
  {
   "cell_type": "code",
   "execution_count": 3,
   "metadata": {},
   "outputs": [],
   "source": [
    "df = pd.read_csv('tweets-11-11.csv')"
   ]
  },
  {
   "cell_type": "code",
   "execution_count": 4,
   "metadata": {
    "scrolled": true
   },
   "outputs": [
    {
     "data": {
      "text/html": [
       "<div>\n",
       "<style scoped>\n",
       "    .dataframe tbody tr th:only-of-type {\n",
       "        vertical-align: middle;\n",
       "    }\n",
       "\n",
       "    .dataframe tbody tr th {\n",
       "        vertical-align: top;\n",
       "    }\n",
       "\n",
       "    .dataframe thead th {\n",
       "        text-align: right;\n",
       "    }\n",
       "</style>\n",
       "<table border=\"1\" class=\"dataframe\">\n",
       "  <thead>\n",
       "    <tr style=\"text-align: right;\">\n",
       "      <th></th>\n",
       "      <th>created at</th>\n",
       "      <th>text</th>\n",
       "      <th>retweets</th>\n",
       "      <th>likes</th>\n",
       "      <th>follows trump</th>\n",
       "      <th>follows clinton</th>\n",
       "      <th>sentiment polarity</th>\n",
       "      <th>sentiment subjectivity</th>\n",
       "    </tr>\n",
       "  </thead>\n",
       "  <tbody>\n",
       "    <tr>\n",
       "      <th>0</th>\n",
       "      <td>2019-11-11 16:25:30</td>\n",
       "      <td>b'RT @kleetampa: Dear @realDonaldTrump \\nWheth...</td>\n",
       "      <td>2</td>\n",
       "      <td>0</td>\n",
       "      <td>True</td>\n",
       "      <td>True</td>\n",
       "      <td>0.200000</td>\n",
       "      <td>0.2</td>\n",
       "    </tr>\n",
       "    <tr>\n",
       "      <th>1</th>\n",
       "      <td>2019-11-11 16:24:32</td>\n",
       "      <td>b'RT @DevinCow: Just a reminder that there is ...</td>\n",
       "      <td>2369</td>\n",
       "      <td>0</td>\n",
       "      <td>False</td>\n",
       "      <td>False</td>\n",
       "      <td>0.200000</td>\n",
       "      <td>0.2</td>\n",
       "    </tr>\n",
       "    <tr>\n",
       "      <th>2</th>\n",
       "      <td>2019-11-11 16:12:05</td>\n",
       "      <td>b'RT @DevinCow: Just a reminder that there is ...</td>\n",
       "      <td>2369</td>\n",
       "      <td>0</td>\n",
       "      <td>False</td>\n",
       "      <td>True</td>\n",
       "      <td>0.200000</td>\n",
       "      <td>0.2</td>\n",
       "    </tr>\n",
       "    <tr>\n",
       "      <th>3</th>\n",
       "      <td>2019-11-11 16:11:40</td>\n",
       "      <td>b'This was absolutely glorious. As best an arg...</td>\n",
       "      <td>0</td>\n",
       "      <td>0</td>\n",
       "      <td>False</td>\n",
       "      <td>False</td>\n",
       "      <td>0.600000</td>\n",
       "      <td>0.6</td>\n",
       "    </tr>\n",
       "    <tr>\n",
       "      <th>4</th>\n",
       "      <td>2019-11-11 16:11:38</td>\n",
       "      <td>b'RT @Rose_glow1: Trump let them in the front ...</td>\n",
       "      <td>3</td>\n",
       "      <td>0</td>\n",
       "      <td>True</td>\n",
       "      <td>True</td>\n",
       "      <td>0.000000</td>\n",
       "      <td>0.0</td>\n",
       "    </tr>\n",
       "    <tr>\n",
       "      <th>...</th>\n",
       "      <td>...</td>\n",
       "      <td>...</td>\n",
       "      <td>...</td>\n",
       "      <td>...</td>\n",
       "      <td>...</td>\n",
       "      <td>...</td>\n",
       "      <td>...</td>\n",
       "      <td>...</td>\n",
       "    </tr>\n",
       "    <tr>\n",
       "      <th>445</th>\n",
       "      <td>2019-11-10 08:37:09</td>\n",
       "      <td>b'RT @DevinCow: Just a reminder that there is ...</td>\n",
       "      <td>2372</td>\n",
       "      <td>0</td>\n",
       "      <td>False</td>\n",
       "      <td>True</td>\n",
       "      <td>0.200000</td>\n",
       "      <td>0.2</td>\n",
       "    </tr>\n",
       "    <tr>\n",
       "      <th>446</th>\n",
       "      <td>2019-11-10 08:25:16</td>\n",
       "      <td>b'RT @DevinCow: Just a reminder that there is ...</td>\n",
       "      <td>2372</td>\n",
       "      <td>0</td>\n",
       "      <td>False</td>\n",
       "      <td>True</td>\n",
       "      <td>0.200000</td>\n",
       "      <td>0.2</td>\n",
       "    </tr>\n",
       "    <tr>\n",
       "      <th>447</th>\n",
       "      <td>2019-11-10 07:58:29</td>\n",
       "      <td>b'RT @politicallands1: We are currently being ...</td>\n",
       "      <td>18</td>\n",
       "      <td>0</td>\n",
       "      <td>False</td>\n",
       "      <td>True</td>\n",
       "      <td>0.112121</td>\n",
       "      <td>0.6</td>\n",
       "    </tr>\n",
       "    <tr>\n",
       "      <th>448</th>\n",
       "      <td>2019-11-10 07:52:26</td>\n",
       "      <td>b'RT @DevinCow: Just a reminder that there is ...</td>\n",
       "      <td>2372</td>\n",
       "      <td>0</td>\n",
       "      <td>False</td>\n",
       "      <td>True</td>\n",
       "      <td>0.200000</td>\n",
       "      <td>0.2</td>\n",
       "    </tr>\n",
       "    <tr>\n",
       "      <th>449</th>\n",
       "      <td>2019-11-10 07:33:07</td>\n",
       "      <td>b'RT @TheCiscoKid2: #ResistLouder #FirstAmendm...</td>\n",
       "      <td>3</td>\n",
       "      <td>0</td>\n",
       "      <td>True</td>\n",
       "      <td>True</td>\n",
       "      <td>0.000000</td>\n",
       "      <td>0.0</td>\n",
       "    </tr>\n",
       "  </tbody>\n",
       "</table>\n",
       "<p>450 rows × 8 columns</p>\n",
       "</div>"
      ],
      "text/plain": [
       "              created at                                               text  \\\n",
       "0    2019-11-11 16:25:30  b'RT @kleetampa: Dear @realDonaldTrump \\nWheth...   \n",
       "1    2019-11-11 16:24:32  b'RT @DevinCow: Just a reminder that there is ...   \n",
       "2    2019-11-11 16:12:05  b'RT @DevinCow: Just a reminder that there is ...   \n",
       "3    2019-11-11 16:11:40  b'This was absolutely glorious. As best an arg...   \n",
       "4    2019-11-11 16:11:38  b'RT @Rose_glow1: Trump let them in the front ...   \n",
       "..                   ...                                                ...   \n",
       "445  2019-11-10 08:37:09  b'RT @DevinCow: Just a reminder that there is ...   \n",
       "446  2019-11-10 08:25:16  b'RT @DevinCow: Just a reminder that there is ...   \n",
       "447  2019-11-10 07:58:29  b'RT @politicallands1: We are currently being ...   \n",
       "448  2019-11-10 07:52:26  b'RT @DevinCow: Just a reminder that there is ...   \n",
       "449  2019-11-10 07:33:07  b'RT @TheCiscoKid2: #ResistLouder #FirstAmendm...   \n",
       "\n",
       "     retweets  likes  follows trump  follows clinton  sentiment polarity  \\\n",
       "0           2      0           True             True            0.200000   \n",
       "1        2369      0          False            False            0.200000   \n",
       "2        2369      0          False             True            0.200000   \n",
       "3           0      0          False            False            0.600000   \n",
       "4           3      0           True             True            0.000000   \n",
       "..        ...    ...            ...              ...                 ...   \n",
       "445      2372      0          False             True            0.200000   \n",
       "446      2372      0          False             True            0.200000   \n",
       "447        18      0          False             True            0.112121   \n",
       "448      2372      0          False             True            0.200000   \n",
       "449         3      0           True             True            0.000000   \n",
       "\n",
       "     sentiment subjectivity  \n",
       "0                       0.2  \n",
       "1                       0.2  \n",
       "2                       0.2  \n",
       "3                       0.6  \n",
       "4                       0.0  \n",
       "..                      ...  \n",
       "445                     0.2  \n",
       "446                     0.2  \n",
       "447                     0.6  \n",
       "448                     0.2  \n",
       "449                     0.0  \n",
       "\n",
       "[450 rows x 8 columns]"
      ]
     },
     "execution_count": 4,
     "metadata": {},
     "output_type": "execute_result"
    }
   ],
   "source": [
    "sentiment_polarity = []\n",
    "sentiment_subjectivity = []\n",
    "\n",
    "for index, row in df.iterrows():\n",
    "    sentiment_polarity.append(TextBlob(row['text']).sentiment.polarity)\n",
    "    sentiment_subjectivity.append(TextBlob(row['text']).sentiment.subjectivity)\n",
    "\n",
    "df['sentiment polarity'] = sentiment_polarity\n",
    "df['sentiment subjectivity'] = sentiment_subjectivity\n",
    "df"
   ]
  },
  {
   "cell_type": "code",
   "execution_count": 5,
   "metadata": {},
   "outputs": [
    {
     "data": {
      "image/png": "[encoded data removed]",
      "text/plain": [
       "<Figure size 432x288 with 1 Axes>"
      ]
     },
     "metadata": {
      "needs_background": "light"
     },
     "output_type": "display_data"
    }
   ],
   "source": [
    "df.plot(kind='scatter',x='sentiment subjectivity',y='sentiment polarity',color='red')\n",
    "plt.show()"
   ]
  }
 ],
 "metadata": {
  "kernelspec": {
   "display_name": "Python 3",
   "language": "python",
   "name": "python3"
  },
  "language_info": {
   "codemirror_mode": {
    "name": "ipython",
    "version": 3
   },
   "file_extension": ".py",
   "mimetype": "text/x-python",
   "name": "python",
   "nbconvert_exporter": "python",
   "pygments_lexer": "ipython3",
   "version": "3.7.0"
  }
 },
 "nbformat": 4,
 "nbformat_minor": 2
}
